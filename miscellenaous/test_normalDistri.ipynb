{
 "cells": [
  {
   "cell_type": "markdown",
   "metadata": {},
   "source": [
    "Create the normal distribution\n",
    "\n",
    "https://docs.scipy.org/doc/scipy/reference/generated/scipy.stats.norm.html?highlight=norm\n",
    "\n",
    "Bernardo, José M.; Smith, Adrian F. M. (2000). Bayesian Theory. Wiley. ISBN 978-0-471-49464-5. for the precision parameter"
   ]
  },
  {
   "cell_type": "code",
   "execution_count": 1,
   "metadata": {},
   "outputs": [],
   "source": [
    "import numpy as np\n",
    "import matplotlib.pyplot as plt\n",
    "import pandas as pd\n",
    "import plotly.express as px"
   ]
  },
  {
   "cell_type": "code",
   "execution_count": 2,
   "metadata": {},
   "outputs": [],
   "source": [
    "FACTOR_PRECISION = 100\n",
    "FACTOR_STD_RANGE = 0.05\n",
    "FACTOR_STD_NB = 3.5\n",
    "\n",
    "z = np.linspace(0,20,FACTOR_PRECISION)\n"
   ]
  },
  {
   "cell_type": "code",
   "execution_count": 3,
   "metadata": {},
   "outputs": [],
   "source": [
    "\n",
    "# Based on https://www.askpython.com/python/normal-distribution\n",
    "# Importing required libraries\n",
    " \n",
    "# import numpy as np\n",
    "# import matplotlib.pyplot as plt\n",
    " \n",
    "# Creating a series of data of in range of 1-50.\n",
    "x = np.linspace(9.9,12.1,FACTOR_PRECISION)\n",
    " \n",
    "#Creating a Function.\n",
    "def normal_dist(x , mean , sd):\n",
    "    prob_density = (np.pi*sd) * np.exp(-0.5*((x-mean)/sd)**2)\n",
    "    return prob_density\n",
    "\n",
    "#Calculate mean and Standard deviation.\n",
    "mean = np.mean(x)\n",
    "sd = np.std(x)\n",
    " \n",
    "#Apply function to the data.\n",
    "pdf_x = normal_dist(x,mean,sd)"
   ]
  },
  {
   "cell_type": "code",
   "execution_count": 4,
   "metadata": {},
   "outputs": [],
   "source": [
    "# Creating a series of data of in range of 1-50.\n",
    "y = np.linspace(9,11,FACTOR_PRECISION)\n",
    "\n",
    "#Calculate mean and Standard deviation.\n",
    "mean = np.mean(y)\n",
    "sd = np.std(y)\n",
    " \n",
    "#Apply function to the data.\n",
    "pdf_y = normal_dist(y,mean,sd)"
   ]
  },
  {
   "cell_type": "code",
   "execution_count": 5,
   "metadata": {},
   "outputs": [
    {
     "data": {
      "text/plain": [
       "Text(0, 0.5, 'Probability Density')"
      ]
     },
     "execution_count": 5,
     "metadata": {},
     "output_type": "execute_result"
    },
    {
     "data": {
      "image/png": "[encoded data removed]",
      "text/plain": [
       "<Figure size 432x288 with 1 Axes>"
      ]
     },
     "metadata": {
      "needs_background": "light"
     },
     "output_type": "display_data"
    }
   ],
   "source": [
    "#Plotting the Results\n",
    " \n",
    "#Plotting the Results\n",
    "plt.plot(z,pdf_x/np.max(pdf_x), color = 'red')\n",
    "plt.plot(z,pdf_y/np.max(pdf_y), color = 'blue')\n",
    "plt.xlabel('Data points')\n",
    "plt.ylabel('Probability Density')"
   ]
  },
  {
   "cell_type": "code",
   "execution_count": 6,
   "metadata": {},
   "outputs": [],
   "source": [
    "# Standard normal density \n",
    "def standard_norm_dist(FACTOR_STD_NB, FACTOR_PRECISION):\n",
    "   x = np.linspace(-FACTOR_STD_NB,FACTOR_STD_NB,FACTOR_PRECISION)\n",
    "   prob_density = np.exp(-0.5*(x)**2)/np.sqrt(2*np.pi)\n",
    "   return prob_density\n",
    "\n",
    "\n",
    "\n",
    "stdDistri = standard_norm_dist(FACTOR_STD_NB, 1000)"
   ]
  },
  {
   "cell_type": "code",
   "execution_count": 47,
   "metadata": {},
   "outputs": [
    {
     "data": {
      "text/plain": [
       "[<matplotlib.lines.Line2D at 0x1f1ccf76c80>]"
      ]
     },
     "execution_count": 47,
     "metadata": {},
     "output_type": "execute_result"
    },
    {
     "data": {
      "image/png": "[encoded data removed]",
      "text/plain": [
       "<Figure size 432x288 with 1 Axes>"
      ]
     },
     "metadata": {
      "needs_background": "light"
     },
     "output_type": "display_data"
    }
   ],
   "source": [
    "def other_stand_norm_distri(value=0, deviation=3.5):\n",
    "    x = np.linspace(-deviation,deviation,1000)\n",
    "    prob_density = np.exp(-x)/((1+np.exp(-x))**2)\n",
    "    return prob_density\n",
    "\n",
    "def log_regr(value=0, deviation=3.5):\n",
    "    x = np.linspace(0,1,1000)\n",
    "    error_fringe = 0.006692850924284843\n",
    "    prob_density = (0.5+np.tanh(5*x-2.5)/(2))+((error_fringe*2*x)-error_fringe)\n",
    "    return prob_density\n",
    "\n",
    "def other_distri(value=0, deviation=3.5):\n",
    "    x = np.linspace(-0,1,1000)\n",
    "    prob_density = ((x**2.5)*np.exp(1))/(1+np.exp((x)**2.5))\n",
    "    return prob_density\n",
    "\n",
    "#a = other_stand_norm_distri()\n",
    "b = log_regr()\n",
    "#plt.plot(a, color = 'red')\n",
    "#plt.plot(stdDistri, color = 'blue')\n",
    "plt.plot(b, color = 'green')\n",
    "#plt.plot(np.cumsum(a), color = 'blue')"
   ]
  },
  {
   "cell_type": "code",
   "execution_count": 49,
   "metadata": {},
   "outputs": [
    {
     "data": {
      "text/plain": [
       "1.0"
      ]
     },
     "execution_count": 49,
     "metadata": {},
     "output_type": "execute_result"
    }
   ],
   "source": [
    "0.002472623156634768\n",
    "0.006692850924284843\n",
    "b[-1]"
   ]
  },
  {
   "cell_type": "code",
   "execution_count": 63,
   "metadata": {},
   "outputs": [
    {
     "name": "stdout",
     "output_type": "stream",
     "text": [
      "0.8834742183475963\n"
     ]
    }
   ],
   "source": [
    "std = 0.27727543986058134\n",
    "x1 = 0.5878520852695681\n",
    "x2 = 0.34800324930077264\n",
    "\n",
    "x = 0.3\n",
    "error_fringe = 0.006692850924284843\n",
    "prob_density = 1-((0.5+np.tanh(5*x-2.5)/(2))+((error_fringe*2*x)-error_fringe))\n",
    "print(prob_density)"
   ]
  },
  {
   "cell_type": "code",
   "execution_count": null,
   "metadata": {},
   "outputs": [],
   "source": [
    "std = 0.27727543986058134\n",
    "x1 = 0.5878520852695681\n",
    "x2 = 0.34800324930077264\n",
    "\n",
    "np.exp((1-(x1-x2)/std)**3.2)/np.exp((1-((x1-x2)/std))**3.25)"
   ]
  },
  {
   "cell_type": "code",
   "execution_count": 9,
   "metadata": {},
   "outputs": [
    {
     "data": {
      "text/plain": [
       "70.87536047397697"
      ]
     },
     "execution_count": 9,
     "metadata": {},
     "output_type": "execute_result"
    }
   ],
   "source": [
    "(x1-x2)/std"
   ]
  },
  {
   "cell_type": "code",
   "execution_count": 10,
   "metadata": {},
   "outputs": [
    {
     "data": {
      "text/plain": [
       "[<matplotlib.lines.Line2D at 0x1f1cabfb4c0>]"
      ]
     },
     "execution_count": 10,
     "metadata": {},
     "output_type": "execute_result"
    },
    {
     "data": {
      "image/png": "[encoded data removed]",
      "text/plain": [
       "<Figure size 432x288 with 1 Axes>"
      ]
     },
     "metadata": {
      "needs_background": "light"
     },
     "output_type": "display_data"
    }
   ],
   "source": [
    "(np.tanh(((x1-x2)/std)*3))\n",
    "x = np.linspace(-1.5,1.5,100)\n",
    "y = np.linspace(0,1,100)\n",
    "a = np.tanh(x)*0.5\n",
    "b = 0.5+np.tanh((y*3)-1.5)*0.5\n",
    "b = 1 / (1 + np.exp(-x/0.25))\n",
    "b = y**3.25*np.exp(1)/np.exp(y**3.2)\n",
    "# plt.plot(a, color = 'red')\n",
    "plt.plot(b, color = 'blue')"
   ]
  },
  {
   "cell_type": "code",
   "execution_count": 11,
   "metadata": {},
   "outputs": [
    {
     "data": {
      "text/plain": [
       "1.0"
      ]
     },
     "execution_count": 11,
     "metadata": {},
     "output_type": "execute_result"
    }
   ],
   "source": [
    "b[-1]"
   ]
  },
  {
   "cell_type": "code",
   "execution_count": 12,
   "metadata": {},
   "outputs": [
    {
     "ename": "SyntaxError",
     "evalue": "invalid decimal literal (2821285404.py, line 1)",
     "output_type": "error",
     "traceback": [
      "\u001b[1;36m  Input \u001b[1;32mIn [12]\u001b[1;36m\u001b[0m\n\u001b[1;33m    area = (1-(val1-val2)/width_distri).powf(1.0)*1.exp())/(1-(val1-val2)/width_distri).powf(1.0).exp();\u001b[0m\n\u001b[1;37m                                                   ^\u001b[0m\n\u001b[1;31mSyntaxError\u001b[0m\u001b[1;31m:\u001b[0m invalid decimal literal\n"
     ]
    }
   ],
   "source": [
    "# area = (1-(val1-val2)/width_distri).powf(1.0)*1.exp())/(1-(val1-val2)/width_distri).powf(1.0).exp();"
   ]
  },
  {
   "cell_type": "code",
   "execution_count": null,
   "metadata": {},
   "outputs": [
    {
     "ename": "ValueError",
     "evalue": "x and y must have same first dimension, but have shapes (100,) and (1000,)",
     "output_type": "error",
     "traceback": [
      "\u001b[1;31m---------------------------------------------------------------------------\u001b[0m",
      "\u001b[1;31mValueError\u001b[0m                                Traceback (most recent call last)",
      "\u001b[1;32mc:\\Users\\YoupiYoupin\\Documents\\GitHub\\g-unit-of-agreement\\miscellenaous\\test_normalDistri.ipynb Cell 12\u001b[0m in \u001b[0;36m<cell line: 24>\u001b[1;34m()\u001b[0m\n\u001b[0;32m     <a href='vscode-notebook-cell:/c%3A/Users/YoupiYoupin/Documents/GitHub/g-unit-of-agreement/miscellenaous/test_normalDistri.ipynb#ch0000011?line=19'>20</a>\u001b[0m x_range \u001b[39m=\u001b[39m range_values(x_mean, FACTOR_STD, FACTOR_PRECISION)\n\u001b[0;32m     <a href='vscode-notebook-cell:/c%3A/Users/YoupiYoupin/Documents/GitHub/g-unit-of-agreement/miscellenaous/test_normalDistri.ipynb#ch0000011?line=21'>22</a>\u001b[0m y_range \u001b[39m=\u001b[39m range_values(y_mean, FACTOR_STD, FACTOR_PRECISION)\n\u001b[1;32m---> <a href='vscode-notebook-cell:/c%3A/Users/YoupiYoupin/Documents/GitHub/g-unit-of-agreement/miscellenaous/test_normalDistri.ipynb#ch0000011?line=23'>24</a>\u001b[0m plt\u001b[39m.\u001b[39;49mplot(x_range,stdDistri, color \u001b[39m=\u001b[39;49m \u001b[39m'\u001b[39;49m\u001b[39mred\u001b[39;49m\u001b[39m'\u001b[39;49m)\n\u001b[0;32m     <a href='vscode-notebook-cell:/c%3A/Users/YoupiYoupin/Documents/GitHub/g-unit-of-agreement/miscellenaous/test_normalDistri.ipynb#ch0000011?line=24'>25</a>\u001b[0m plt\u001b[39m.\u001b[39mplot(y_range,stdDistri, color \u001b[39m=\u001b[39m \u001b[39m'\u001b[39m\u001b[39mblue\u001b[39m\u001b[39m'\u001b[39m)\n",
      "File \u001b[1;32mc:\\Users\\YoupiYoupin\\AppData\\Local\\Programs\\Python\\Python310\\lib\\site-packages\\matplotlib\\pyplot.py:2757\u001b[0m, in \u001b[0;36mplot\u001b[1;34m(scalex, scaley, data, *args, **kwargs)\u001b[0m\n\u001b[0;32m   2755\u001b[0m \u001b[39m@_copy_docstring_and_deprecators\u001b[39m(Axes\u001b[39m.\u001b[39mplot)\n\u001b[0;32m   2756\u001b[0m \u001b[39mdef\u001b[39;00m \u001b[39mplot\u001b[39m(\u001b[39m*\u001b[39margs, scalex\u001b[39m=\u001b[39m\u001b[39mTrue\u001b[39;00m, scaley\u001b[39m=\u001b[39m\u001b[39mTrue\u001b[39;00m, data\u001b[39m=\u001b[39m\u001b[39mNone\u001b[39;00m, \u001b[39m*\u001b[39m\u001b[39m*\u001b[39mkwargs):\n\u001b[1;32m-> 2757\u001b[0m     \u001b[39mreturn\u001b[39;00m gca()\u001b[39m.\u001b[39mplot(\n\u001b[0;32m   2758\u001b[0m         \u001b[39m*\u001b[39margs, scalex\u001b[39m=\u001b[39mscalex, scaley\u001b[39m=\u001b[39mscaley,\n\u001b[0;32m   2759\u001b[0m         \u001b[39m*\u001b[39m\u001b[39m*\u001b[39m({\u001b[39m\"\u001b[39m\u001b[39mdata\u001b[39m\u001b[39m\"\u001b[39m: data} \u001b[39mif\u001b[39;00m data \u001b[39mis\u001b[39;00m \u001b[39mnot\u001b[39;00m \u001b[39mNone\u001b[39;00m \u001b[39melse\u001b[39;00m {}), \u001b[39m*\u001b[39m\u001b[39m*\u001b[39mkwargs)\n",
      "File \u001b[1;32mc:\\Users\\YoupiYoupin\\AppData\\Local\\Programs\\Python\\Python310\\lib\\site-packages\\matplotlib\\axes\\_axes.py:1632\u001b[0m, in \u001b[0;36mAxes.plot\u001b[1;34m(self, scalex, scaley, data, *args, **kwargs)\u001b[0m\n\u001b[0;32m   1390\u001b[0m \u001b[39m\"\"\"\u001b[39;00m\n\u001b[0;32m   1391\u001b[0m \u001b[39mPlot y versus x as lines and/or markers.\u001b[39;00m\n\u001b[0;32m   1392\u001b[0m \n\u001b[1;32m   (...)\u001b[0m\n\u001b[0;32m   1629\u001b[0m \u001b[39m(``'green'``) or hex strings (``'#008000'``).\u001b[39;00m\n\u001b[0;32m   1630\u001b[0m \u001b[39m\"\"\"\u001b[39;00m\n\u001b[0;32m   1631\u001b[0m kwargs \u001b[39m=\u001b[39m cbook\u001b[39m.\u001b[39mnormalize_kwargs(kwargs, mlines\u001b[39m.\u001b[39mLine2D)\n\u001b[1;32m-> 1632\u001b[0m lines \u001b[39m=\u001b[39m [\u001b[39m*\u001b[39m\u001b[39mself\u001b[39m\u001b[39m.\u001b[39m_get_lines(\u001b[39m*\u001b[39margs, data\u001b[39m=\u001b[39mdata, \u001b[39m*\u001b[39m\u001b[39m*\u001b[39mkwargs)]\n\u001b[0;32m   1633\u001b[0m \u001b[39mfor\u001b[39;00m line \u001b[39min\u001b[39;00m lines:\n\u001b[0;32m   1634\u001b[0m     \u001b[39mself\u001b[39m\u001b[39m.\u001b[39madd_line(line)\n",
      "File \u001b[1;32mc:\\Users\\YoupiYoupin\\AppData\\Local\\Programs\\Python\\Python310\\lib\\site-packages\\matplotlib\\axes\\_base.py:312\u001b[0m, in \u001b[0;36m_process_plot_var_args.__call__\u001b[1;34m(self, data, *args, **kwargs)\u001b[0m\n\u001b[0;32m    310\u001b[0m     this \u001b[39m+\u001b[39m\u001b[39m=\u001b[39m args[\u001b[39m0\u001b[39m],\n\u001b[0;32m    311\u001b[0m     args \u001b[39m=\u001b[39m args[\u001b[39m1\u001b[39m:]\n\u001b[1;32m--> 312\u001b[0m \u001b[39myield from\u001b[39;00m \u001b[39mself\u001b[39;49m\u001b[39m.\u001b[39;49m_plot_args(this, kwargs)\n",
      "File \u001b[1;32mc:\\Users\\YoupiYoupin\\AppData\\Local\\Programs\\Python\\Python310\\lib\\site-packages\\matplotlib\\axes\\_base.py:498\u001b[0m, in \u001b[0;36m_process_plot_var_args._plot_args\u001b[1;34m(self, tup, kwargs, return_kwargs)\u001b[0m\n\u001b[0;32m    495\u001b[0m     \u001b[39mself\u001b[39m\u001b[39m.\u001b[39maxes\u001b[39m.\u001b[39myaxis\u001b[39m.\u001b[39mupdate_units(y)\n\u001b[0;32m    497\u001b[0m \u001b[39mif\u001b[39;00m x\u001b[39m.\u001b[39mshape[\u001b[39m0\u001b[39m] \u001b[39m!=\u001b[39m y\u001b[39m.\u001b[39mshape[\u001b[39m0\u001b[39m]:\n\u001b[1;32m--> 498\u001b[0m     \u001b[39mraise\u001b[39;00m \u001b[39mValueError\u001b[39;00m(\u001b[39mf\u001b[39m\u001b[39m\"\u001b[39m\u001b[39mx and y must have same first dimension, but \u001b[39m\u001b[39m\"\u001b[39m\n\u001b[0;32m    499\u001b[0m                      \u001b[39mf\u001b[39m\u001b[39m\"\u001b[39m\u001b[39mhave shapes \u001b[39m\u001b[39m{\u001b[39;00mx\u001b[39m.\u001b[39mshape\u001b[39m}\u001b[39;00m\u001b[39m and \u001b[39m\u001b[39m{\u001b[39;00my\u001b[39m.\u001b[39mshape\u001b[39m}\u001b[39;00m\u001b[39m\"\u001b[39m)\n\u001b[0;32m    500\u001b[0m \u001b[39mif\u001b[39;00m x\u001b[39m.\u001b[39mndim \u001b[39m>\u001b[39m \u001b[39m2\u001b[39m \u001b[39mor\u001b[39;00m y\u001b[39m.\u001b[39mndim \u001b[39m>\u001b[39m \u001b[39m2\u001b[39m:\n\u001b[0;32m    501\u001b[0m     \u001b[39mraise\u001b[39;00m \u001b[39mValueError\u001b[39;00m(\u001b[39mf\u001b[39m\u001b[39m\"\u001b[39m\u001b[39mx and y can be no greater than 2D, but have \u001b[39m\u001b[39m\"\u001b[39m\n\u001b[0;32m    502\u001b[0m                      \u001b[39mf\u001b[39m\u001b[39m\"\u001b[39m\u001b[39mshapes \u001b[39m\u001b[39m{\u001b[39;00mx\u001b[39m.\u001b[39mshape\u001b[39m}\u001b[39;00m\u001b[39m and \u001b[39m\u001b[39m{\u001b[39;00my\u001b[39m.\u001b[39mshape\u001b[39m}\u001b[39;00m\u001b[39m\"\u001b[39m)\n",
      "\u001b[1;31mValueError\u001b[0m: x and y must have same first dimension, but have shapes (100,) and (1000,)"
     ]
    },
    {
     "data": {
      "image/png": "[encoded data removed]",
      "text/plain": [
       "<Figure size 432x288 with 1 Axes>"
      ]
     },
     "metadata": {
      "needs_background": "light"
     },
     "output_type": "display_data"
    }
   ],
   "source": [
    "# # Function to get the distri of the occurence x of the variable\n",
    "# def range_values(x, FACTOR_STD, FACTOR_PRECISION):\n",
    "#     return np.linspace(x-FACTOR_STD,x+FACTOR_STD,FACTOR_PRECISION)\n",
    "\n",
    "\n",
    "\n",
    "# arg_x = 10\n",
    "# arg_y = 11\n",
    "# arg_values = [arg_x, arg_y, -0.025,-0.04,-0.03,-0.17,0,0.06,0.01,0.02,0.02]\n",
    "# arg_values = [arg_x, arg_y, 8,5,6,7,30,20,10,5,15]\n",
    "\n",
    "# x_mean = arg_x\n",
    "# y_mean = arg_y\n",
    "\n",
    "# FACTOR_STD_RANGE = 1\n",
    "# # FACTOR_STD = np.mean([x_mean, y_mean])*FACTOR_STD_RANGE\n",
    "\n",
    "# FACTOR_STD = np.std(arg_values)*FACTOR_STD_RANGE\n",
    "\n",
    "# x_range = range_values(x_mean, FACTOR_STD, FACTOR_PRECISION)\n",
    "\n",
    "# y_range = range_values(y_mean, FACTOR_STD, FACTOR_PRECISION)\n",
    "\n",
    "# plt.plot(x_range,stdDistri, color = 'red')\n",
    "# plt.plot(y_range,stdDistri, color = 'blue')"
   ]
  },
  {
   "cell_type": "code",
   "execution_count": null,
   "metadata": {},
   "outputs": [],
   "source": [
    "# https://stats.stackexchange.com/questions/103800/calculate-probability-area-under-the-overlapping-area-of-two-normal-distributi\n",
    "\n",
    "#Henry F. Inman; Edwin L. Bradley Jr (1989). The overlapping coefficient as a measure of agreement between probability distributions and point estimation of the overlap of two normal densities. Communications in Statistics - Theory and Methods, 18(10), 3851\n",
    "\n"
   ]
  },
  {
   "cell_type": "code",
   "execution_count": null,
   "metadata": {},
   "outputs": [
    {
     "data": {
      "text/plain": [
       "0.8045412609778446"
      ]
     },
     "execution_count": 556,
     "metadata": {},
     "output_type": "execute_result"
    }
   ],
   "source": [
    "def area2distri(y_range,x_range):\n",
    "    return np.sum(np.fmin(stdDistri[y_range<=np.max(x_range)] ,stdDistri[x_range>=np.min(y_range)]))/np.sum(stdDistri)\n",
    "\n",
    "area2distri(y_range,x_range)"
   ]
  },
  {
   "cell_type": "code",
   "execution_count": null,
   "metadata": {},
   "outputs": [
    {
     "data": {
      "text/plain": [
       "array([0.00087268, 0.00111493, 0.00141732, 0.00179274, 0.00225629,\n",
       "       0.00282553, 0.00352075, 0.00436515, 0.00538507, 0.00661018,\n",
       "       0.00807352, 0.00981164, 0.0118645 , 0.01427531, 0.01709034,\n",
       "       0.02035844, 0.02413053, 0.02845891, 0.03339629, 0.03899483,\n",
       "       0.04530483, 0.05237341, 0.0602429 , 0.06894926, 0.07852033,\n",
       "       0.08897406, 0.10031674, 0.11254137, 0.12562605, 0.13953269,\n",
       "       0.1542059 , 0.16957224, 0.18553988, 0.20199869, 0.21882078,\n",
       "       0.23586164, 0.25296174, 0.26994861, 0.28663954, 0.30284462,\n",
       "       0.31837017, 0.33302254, 0.34661203, 0.35895697, 0.36988771,\n",
       "       0.37925049, 0.38691107, 0.39275788, 0.39670476, 0.39869304,\n",
       "       0.39869304, 0.39670476, 0.39275788, 0.38691107, 0.37925049,\n",
       "       0.36988771, 0.35895697, 0.34661203, 0.33302254, 0.31837017,\n",
       "       0.30284462, 0.28663954, 0.26994861, 0.25296174, 0.23586164,\n",
       "       0.21882078, 0.20199869, 0.18553988, 0.16957224, 0.1542059 ,\n",
       "       0.13953269, 0.12562605, 0.11254137, 0.10031674, 0.08897406,\n",
       "       0.07852033, 0.06894926, 0.0602429 , 0.05237341, 0.04530483,\n",
       "       0.03899483, 0.03339629, 0.02845891, 0.02413053, 0.02035844,\n",
       "       0.01709034, 0.01427531, 0.0118645 , 0.00981164, 0.00807352,\n",
       "       0.00661018, 0.00538507, 0.00436515, 0.00352075, 0.00282553,\n",
       "       0.00225629, 0.00179274, 0.00141732, 0.00111493, 0.00087268])"
      ]
     },
     "execution_count": 564,
     "metadata": {},
     "output_type": "execute_result"
    }
   ],
   "source": [
    "stdDistri"
   ]
  },
  {
   "cell_type": "code",
   "execution_count": null,
   "metadata": {},
   "outputs": [],
   "source": [
    "# https://peps.python.org/pep-0257/\n",
    "# https://peps.python.org/pep-0008/"
   ]
  },
  {
   "cell_type": "code",
   "execution_count": null,
   "metadata": {},
   "outputs": [],
   "source": [
    "pub fn entropy_info(matrix: &Vec<Vec<f32>>) -> f32{\n",
    "    let mut entropy_values: f32 = 0.0;\n",
    "    for mat_row in matrix {\n",
    "        for mat_val in mat_row{\n",
    "            entropy_values = entropy_values+(mat_val.exp2()*(mat_val.exp2()+0.1f32).ln());\n",
    "        }\n",
    "    }\n",
    "    return entropy_values;\n",
    "}"
   ]
  },
  {
   "cell_type": "code",
   "execution_count": 69,
   "metadata": {},
   "outputs": [],
   "source": [
    "def entro_py(arg_matrix):\n",
    "    return np.sum(np.power(arg_matrix,2)*np.log(np.power(arg_matrix,2)+0.1))\n",
    "\n",
    "def entro_rust(arg_matrix):\n",
    "    entropy_value = 0\n",
    "    for row in arg_matrix:\n",
    "        for val in row:\n",
    "            entropy_value= entropy_value+((val**2)*np.log(val**2+0.1))\n",
    "    return entropy_value\n"
   ]
  },
  {
   "cell_type": "code",
   "execution_count": 76,
   "metadata": {},
   "outputs": [
    {
     "name": "stdout",
     "output_type": "stream",
     "text": [
      "1956021.502514078\n",
      "1956021.5025140732\n"
     ]
    }
   ],
   "source": [
    "a = np.ones([10,10])*50\n",
    "\n",
    "print(entro_py(a))\n",
    "print(entro_rust(a))"
   ]
  },
  {
   "cell_type": "code",
   "execution_count": null,
   "metadata": {},
   "outputs": [],
   "source": []
  }
 ],
 "metadata": {
  "kernelspec": {
   "display_name": "Python 3.10.2 64-bit",
   "language": "python",
   "name": "python3"
  },
  "language_info": {
   "codemirror_mode": {
    "name": "ipython",
    "version": 3
   },
   "file_extension": ".py",
   "mimetype": "text/x-python",
   "name": "python",
   "nbconvert_exporter": "python",
   "pygments_lexer": "ipython3",
   "version": "3.10.2"
  },
  "orig_nbformat": 4,
  "vscode": {
   "interpreter": {
    "hash": "d0e56f5bf6d950d015c7edda514f4022b75b00298ec6025120f40dd1e4eccab0"
   }
  }
 },
 "nbformat": 4,
 "nbformat_minor": 2
}
