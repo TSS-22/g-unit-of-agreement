{
 "cells": [
  {
   "cell_type": "markdown",
   "metadata": {},
   "source": [
    "Create the normal distribution\n",
    "\n",
    "https://docs.scipy.org/doc/scipy/reference/generated/scipy.stats.norm.html?highlight=norm\n",
    "\n",
    "Bernardo, José M.; Smith, Adrian F. M. (2000). Bayesian Theory. Wiley. ISBN 978-0-471-49464-5. for the precision parameter"
   ]
  },
  {
   "cell_type": "code",
   "execution_count": 19,
   "metadata": {},
   "outputs": [],
   "source": [
    "import numpy as np\n",
    "import matplotlib.pyplot as plt\n",
    "import pandas as pd\n",
    "import plotly.express as px"
   ]
  },
  {
   "cell_type": "code",
   "execution_count": 20,
   "metadata": {},
   "outputs": [],
   "source": [
    "FACTOR_PRECISION = 100\n",
    "FACTOR_STD_RANGE = 0.05\n",
    "FACTOR_STD_NB = 3.5\n",
    "\n",
    "z = np.linspace(0,20,FACTOR_PRECISION)\n"
   ]
  },
  {
   "cell_type": "code",
   "execution_count": 21,
   "metadata": {},
   "outputs": [],
   "source": [
    "\n",
    "# Based on https://www.askpython.com/python/normal-distribution\n",
    "# Importing required libraries\n",
    " \n",
    "# import numpy as np\n",
    "# import matplotlib.pyplot as plt\n",
    " \n",
    "# Creating a series of data of in range of 1-50.\n",
    "x = np.linspace(9.9,12.1,FACTOR_PRECISION)\n",
    " \n",
    "#Creating a Function.\n",
    "def normal_dist(x , mean , sd):\n",
    "    prob_density = (np.pi*sd) * np.exp(-0.5*((x-mean)/sd)**2)\n",
    "    return prob_density\n",
    "\n",
    "#Calculate mean and Standard deviation.\n",
    "mean = np.mean(x)\n",
    "sd = np.std(x)\n",
    " \n",
    "#Apply function to the data.\n",
    "pdf_x = normal_dist(x,mean,sd)"
   ]
  },
  {
   "cell_type": "code",
   "execution_count": 22,
   "metadata": {},
   "outputs": [],
   "source": [
    "# Creating a series of data of in range of 1-50.\n",
    "y = np.linspace(9,11,FACTOR_PRECISION)\n",
    "\n",
    "#Calculate mean and Standard deviation.\n",
    "mean = np.mean(y)\n",
    "sd = np.std(y)\n",
    " \n",
    "#Apply function to the data.\n",
    "pdf_y = normal_dist(y,mean,sd)"
   ]
  },
  {
   "cell_type": "code",
   "execution_count": 23,
   "metadata": {},
   "outputs": [
    {
     "data": {
      "text/plain": [
       "Text(0, 0.5, 'Probability Density')"
      ]
     },
     "execution_count": 23,
     "metadata": {},
     "output_type": "execute_result"
    },
    {
     "data": {
      "image/png": "[encoded data removed]",
      "text/plain": [
       "<Figure size 432x288 with 1 Axes>"
      ]
     },
     "metadata": {
      "needs_background": "light"
     },
     "output_type": "display_data"
    }
   ],
   "source": [
    "#Plotting the Results\n",
    " \n",
    "#Plotting the Results\n",
    "plt.plot(z,pdf_x/np.max(pdf_x), color = 'red')\n",
    "plt.plot(z,pdf_y/np.max(pdf_y), color = 'blue')\n",
    "plt.xlabel('Data points')\n",
    "plt.ylabel('Probability Density')"
   ]
  },
  {
   "cell_type": "code",
   "execution_count": 24,
   "metadata": {},
   "outputs": [],
   "source": [
    "# Standard normal density \n",
    "def standard_norm_dist(FACTOR_STD_NB, FACTOR_PRECISION):\n",
    "   x = np.linspace(-FACTOR_STD_NB,FACTOR_STD_NB,FACTOR_PRECISION)\n",
    "   prob_density = np.exp(-0.5*(x)**2)/np.sqrt(2*np.pi)\n",
    "   return prob_density\n",
    "\n",
    "\n",
    "\n",
    "stdDistri = standard_norm_dist(FACTOR_STD_NB, 1000)"
   ]
  },
  {
   "cell_type": "code",
   "execution_count": 25,
   "metadata": {},
   "outputs": [
    {
     "data": {
      "text/plain": [
       "[<matplotlib.lines.Line2D at 0x1f825675a50>]"
      ]
     },
     "execution_count": 25,
     "metadata": {},
     "output_type": "execute_result"
    },
    {
     "data": {
      "image/png": "[encoded data removed]",
      "text/plain": [
       "<Figure size 432x288 with 1 Axes>"
      ]
     },
     "metadata": {
      "needs_background": "light"
     },
     "output_type": "display_data"
    }
   ],
   "source": [
    "def other_stand_norm_distri(value=0, deviation=3.5):\n",
    "    x = np.linspace(-deviation,deviation,1000)\n",
    "    prob_density = np.exp(-x)/((1+np.exp(-x))**2)\n",
    "    return prob_density\n",
    "\n",
    "def log_regr(value=0, deviation=3.5):\n",
    "    x = np.linspace(0,1,1000)\n",
    "    error_fringe = 0.006692850924284843\n",
    "    prob_density = (0.5+np.tanh(5*x-2.5)/(2))+((error_fringe*2*x)-error_fringe)\n",
    "    return prob_density\n",
    "\n",
    "def other_distri(value=0, deviation=3.5):\n",
    "    x = np.linspace(-0,1,1000)\n",
    "    prob_density = ((x**2.5)*np.exp(1))/(1+np.exp((x)**2.5))\n",
    "    return prob_density\n",
    "\n",
    "#a = other_stand_norm_distri()\n",
    "b = log_regr()\n",
    "#plt.plot(a, color = 'red')\n",
    "#plt.plot(stdDistri, color = 'blue')\n",
    "plt.plot(b, color = 'green')\n",
    "#plt.plot(np.cumsum(a), color = 'blue')"
   ]
  },
  {
   "cell_type": "code",
   "execution_count": 26,
   "metadata": {},
   "outputs": [
    {
     "data": {
      "text/plain": [
       "1.0"
      ]
     },
     "execution_count": 26,
     "metadata": {},
     "output_type": "execute_result"
    }
   ],
   "source": [
    "0.002472623156634768\n",
    "0.006692850924284843\n",
    "b[-1]"
   ]
  },
  {
   "cell_type": "code",
   "execution_count": 27,
   "metadata": {},
   "outputs": [
    {
     "name": "stdout",
     "output_type": "stream",
     "text": [
      "0.8834742183475963\n"
     ]
    }
   ],
   "source": [
    "std = 0.27727543986058134\n",
    "x1 = 0.5878520852695681\n",
    "x2 = 0.34800324930077264\n",
    "\n",
    "x = 0.3\n",
    "error_fringe = 0.006692850924284843\n",
    "prob_density = 1-((0.5+np.tanh(5*x-2.5)/(2))+((error_fringe*2*x)-error_fringe))\n",
    "print(prob_density)"
   ]
  },
  {
   "cell_type": "code",
   "execution_count": 28,
   "metadata": {},
   "outputs": [
    {
     "data": {
      "text/plain": [
       "1.0001570014719268"
      ]
     },
     "execution_count": 28,
     "metadata": {},
     "output_type": "execute_result"
    }
   ],
   "source": [
    "std = 0.27727543986058134\n",
    "x1 = 0.5878520852695681\n",
    "x2 = 0.34800324930077264\n",
    "\n",
    "np.exp((1-(x1-x2)/std)**3.2)/np.exp((1-((x1-x2)/std))**3.25)"
   ]
  },
  {
   "cell_type": "code",
   "execution_count": 29,
   "metadata": {},
   "outputs": [
    {
     "data": {
      "text/plain": [
       "0.8650201261582902"
      ]
     },
     "execution_count": 29,
     "metadata": {},
     "output_type": "execute_result"
    }
   ],
   "source": [
    "(x1-x2)/std"
   ]
  },
  {
   "cell_type": "code",
   "execution_count": 30,
   "metadata": {},
   "outputs": [
    {
     "data": {
      "text/plain": [
       "[<matplotlib.lines.Line2D at 0x1f825704490>]"
      ]
     },
     "execution_count": 30,
     "metadata": {},
     "output_type": "execute_result"
    },
    {
     "data": {
      "image/png": "[encoded data removed]",
      "text/plain": [
       "<Figure size 432x288 with 1 Axes>"
      ]
     },
     "metadata": {
      "needs_background": "light"
     },
     "output_type": "display_data"
    }
   ],
   "source": [
    "(np.tanh(((x1-x2)/std)*3))\n",
    "x = np.linspace(-1.5,1.5,100)\n",
    "y = np.linspace(0,1,100)\n",
    "a = np.tanh(x)*0.5\n",
    "b = 0.5+np.tanh((y*3)-1.5)*0.5\n",
    "b = 1 / (1 + np.exp(-x/0.25))\n",
    "b = y**3.25*np.exp(1)/np.exp(y**3.2)\n",
    "# plt.plot(a, color = 'red')\n",
    "plt.plot(b, color = 'blue')"
   ]
  },
  {
   "cell_type": "code",
   "execution_count": 31,
   "metadata": {},
   "outputs": [
    {
     "data": {
      "text/plain": [
       "1.0"
      ]
     },
     "execution_count": 31,
     "metadata": {},
     "output_type": "execute_result"
    }
   ],
   "source": [
    "b[-1]"
   ]
  },
  {
   "cell_type": "code",
   "execution_count": 32,
   "metadata": {},
   "outputs": [],
   "source": [
    "# area = (1-(val1-val2)/width_distri).powf(1.0)*1.exp())/(1-(val1-val2)/width_distri).powf(1.0).exp();"
   ]
  },
  {
   "cell_type": "code",
   "execution_count": 33,
   "metadata": {},
   "outputs": [],
   "source": [
    "# # Function to get the distri of the occurence x of the variable\n",
    "# def range_values(x, FACTOR_STD, FACTOR_PRECISION):\n",
    "#     return np.linspace(x-FACTOR_STD,x+FACTOR_STD,FACTOR_PRECISION)\n",
    "\n",
    "\n",
    "\n",
    "# arg_x = 10\n",
    "# arg_y = 11\n",
    "# arg_values = [arg_x, arg_y, -0.025,-0.04,-0.03,-0.17,0,0.06,0.01,0.02,0.02]\n",
    "# arg_values = [arg_x, arg_y, 8,5,6,7,30,20,10,5,15]\n",
    "\n",
    "# x_mean = arg_x\n",
    "# y_mean = arg_y\n",
    "\n",
    "# FACTOR_STD_RANGE = 1\n",
    "# # FACTOR_STD = np.mean([x_mean, y_mean])*FACTOR_STD_RANGE\n",
    "\n",
    "# FACTOR_STD = np.std(arg_values)*FACTOR_STD_RANGE\n",
    "\n",
    "# x_range = range_values(x_mean, FACTOR_STD, FACTOR_PRECISION)\n",
    "\n",
    "# y_range = range_values(y_mean, FACTOR_STD, FACTOR_PRECISION)\n",
    "\n",
    "# plt.plot(x_range,stdDistri, color = 'red')\n",
    "# plt.plot(y_range,stdDistri, color = 'blue')"
   ]
  },
  {
   "cell_type": "code",
   "execution_count": 34,
   "metadata": {},
   "outputs": [],
   "source": [
    "# https://stats.stackexchange.com/questions/103800/calculate-probability-area-under-the-overlapping-area-of-two-normal-distributi\n",
    "\n",
    "#Henry F. Inman; Edwin L. Bradley Jr (1989). The overlapping coefficient as a measure of agreement between probability distributions and point estimation of the overlap of two normal densities. Communications in Statistics - Theory and Methods, 18(10), 3851\n",
    "\n"
   ]
  },
  {
   "cell_type": "code",
   "execution_count": 35,
   "metadata": {},
   "outputs": [],
   "source": [
    "# def area2distri(y_range,x_range):\n",
    "#     return np.sum(np.fmin(stdDistri[y_range<=np.max(x_range)] ,stdDistri[x_range>=np.min(y_range)]))/np.sum(stdDistri)\n",
    "\n",
    "# area2distri(y_range,x_range)"
   ]
  },
  {
   "cell_type": "code",
   "execution_count": 36,
   "metadata": {},
   "outputs": [
    {
     "data": {
      "text/plain": [
       "array([0.00087268, 0.00089433, 0.00091646, 0.0009391 , 0.00096225,\n",
       "       0.00098593, 0.00101013, 0.00103488, 0.00106018, 0.00108605,\n",
       "       0.0011125 , 0.00113953, 0.00116716, 0.00119541, 0.00122427,\n",
       "       0.00125378, 0.00128393, 0.00131474, 0.00134622, 0.0013784 ,\n",
       "       0.00141127, 0.00144485, 0.00147916, 0.00151421, 0.00155002,\n",
       "       0.00158659, 0.00162395, 0.0016621 , 0.00170107, 0.00174087,\n",
       "       0.0017815 , 0.001823  , 0.00186538, 0.00190864, 0.00195281,\n",
       "       0.00199791, 0.00204395, 0.00209095, 0.00213892, 0.00218788,\n",
       "       0.00223786, 0.00228886, 0.00234092, 0.00239403, 0.00244824,\n",
       "       0.00250355, 0.00255998, 0.00261755, 0.00267629, 0.00273622,\n",
       "       0.00279734, 0.0028597 , 0.00292329, 0.00298816, 0.00305432,\n",
       "       0.00312178, 0.00319058, 0.00326074, 0.00333228, 0.00340522,\n",
       "       0.00347958, 0.00355539, 0.00363268, 0.00371146, 0.00379177,\n",
       "       0.00387363, 0.00395705, 0.00404208, 0.00412873, 0.00421703,\n",
       "       0.00430701, 0.00439869, 0.0044921 , 0.00458727, 0.00468423,\n",
       "       0.004783  , 0.00488361, 0.0049861 , 0.00509048, 0.0051968 ,\n",
       "       0.00530508, 0.00541535, 0.00552763, 0.00564197, 0.00575839,\n",
       "       0.00587693, 0.00599761, 0.00612047, 0.00624554, 0.00637285,\n",
       "       0.00650243, 0.00663433, 0.00676857, 0.00690519, 0.00704421,\n",
       "       0.00718569, 0.00732964, 0.00747612, 0.00762514, 0.00777676,\n",
       "       0.00793099, 0.0080879 , 0.0082475 , 0.00840983, 0.00857494,\n",
       "       0.00874287, 0.00891364, 0.00908731, 0.0092639 , 0.00944346,\n",
       "       0.00962603, 0.00981164, 0.01000035, 0.01019218, 0.01038718,\n",
       "       0.0105854 , 0.01078687, 0.01099163, 0.01119973, 0.0114112 ,\n",
       "       0.01162611, 0.01184447, 0.01206635, 0.01229177, 0.0125208 ,\n",
       "       0.01275347, 0.01298982, 0.0132299 , 0.01347376, 0.01372144,\n",
       "       0.01397298, 0.01422844, 0.01448786, 0.01475128, 0.01501876,\n",
       "       0.01529033, 0.01556605, 0.01584597, 0.01613012, 0.01641857,\n",
       "       0.01671135, 0.01700852, 0.01731013, 0.01761621, 0.01792683,\n",
       "       0.01824203, 0.01856187, 0.01888638, 0.01921562, 0.01954964,\n",
       "       0.01988849, 0.02023222, 0.02058088, 0.02093453, 0.0212932 ,\n",
       "       0.02165695, 0.02202584, 0.02239991, 0.02277922, 0.02316381,\n",
       "       0.02355373, 0.02394905, 0.0243498 , 0.02475605, 0.02516784,\n",
       "       0.02558522, 0.02600824, 0.02643697, 0.02687143, 0.0273117 ,\n",
       "       0.02775782, 0.02820984, 0.02866782, 0.0291318 , 0.02960183,\n",
       "       0.03007797, 0.03056027, 0.03104878, 0.03154355, 0.03204463,\n",
       "       0.03255208, 0.03306593, 0.03358625, 0.03411308, 0.03464647,\n",
       "       0.03518647, 0.03573314, 0.03628652, 0.03684666, 0.03741361,\n",
       "       0.03798741, 0.03856813, 0.03915579, 0.03975046, 0.04035219,\n",
       "       0.040961  , 0.04157697, 0.04220012, 0.04283051, 0.04346818,\n",
       "       0.04411318, 0.04476556, 0.04542535, 0.0460926 , 0.04676736,\n",
       "       0.04744966, 0.04813956, 0.04883709, 0.04954229, 0.05025521,\n",
       "       0.05097589, 0.05170436, 0.05244067, 0.05318485, 0.05393694,\n",
       "       0.05469699, 0.05546502, 0.05624107, 0.05702518, 0.05781738,\n",
       "       0.05861772, 0.05942621, 0.0602429 , 0.06106781, 0.06190097,\n",
       "       0.06274243, 0.0635922 , 0.06445031, 0.0653168 , 0.06619169,\n",
       "       0.067075  , 0.06796676, 0.068867  , 0.06977573, 0.07069299,\n",
       "       0.07161879, 0.07255315, 0.07349609, 0.07444762, 0.07540778,\n",
       "       0.07637657, 0.07735401, 0.07834011, 0.07933489, 0.08033835,\n",
       "       0.08135051, 0.08237138, 0.08340096, 0.08443927, 0.08548631,\n",
       "       0.08654208, 0.08760659, 0.08867984, 0.08976183, 0.09085256,\n",
       "       0.09195203, 0.09306023, 0.09417717, 0.09530283, 0.09643722,\n",
       "       0.09758031, 0.09873211, 0.0998926 , 0.10106176, 0.10223959,\n",
       "       0.10342607, 0.10462118, 0.1058249 , 0.10703722, 0.10825811,\n",
       "       0.10948756, 0.11072552, 0.11197199, 0.11322693, 0.11449031,\n",
       "       0.11576211, 0.11704229, 0.11833081, 0.11962764, 0.12093276,\n",
       "       0.1222461 , 0.12356764, 0.12489734, 0.12623515, 0.12758102,\n",
       "       0.12893491, 0.13029678, 0.13166656, 0.13304421, 0.13442967,\n",
       "       0.13582289, 0.13722382, 0.13863238, 0.14004853, 0.1414722 ,\n",
       "       0.14290332, 0.14434184, 0.14578768, 0.14724077, 0.14870104,\n",
       "       0.15016842, 0.15164284, 0.15312421, 0.15461247, 0.15610752,\n",
       "       0.1576093 , 0.1591177 , 0.16063266, 0.16215408, 0.16368187,\n",
       "       0.16521594, 0.16675621, 0.16830257, 0.16985493, 0.17141319,\n",
       "       0.17297726, 0.17454703, 0.17612239, 0.17770325, 0.1792895 ,\n",
       "       0.18088102, 0.18247771, 0.18407946, 0.18568615, 0.18729766,\n",
       "       0.18891389, 0.19053471, 0.19216   , 0.19378964, 0.19542351,\n",
       "       0.19706147, 0.19870341, 0.20034919, 0.20199869, 0.20365176,\n",
       "       0.20530828, 0.20696812, 0.20863113, 0.21029718, 0.21196612,\n",
       "       0.21363783, 0.21531214, 0.21698892, 0.21866802, 0.2203493 ,\n",
       "       0.2220326 , 0.22371778, 0.22540468, 0.22709315, 0.22878303,\n",
       "       0.23047417, 0.23216642, 0.23385961, 0.23555358, 0.23724817,\n",
       "       0.23894322, 0.24063857, 0.24233404, 0.24402948, 0.24572472,\n",
       "       0.24741959, 0.24911391, 0.25080753, 0.25250026, 0.25419193,\n",
       "       0.25588238, 0.25757141, 0.25925887, 0.26094457, 0.26262834,\n",
       "       0.26431   , 0.26598936, 0.26766625, 0.26934049, 0.27101189,\n",
       "       0.27268028, 0.27434547, 0.27600727, 0.27766551, 0.27931999,\n",
       "       0.28097054, 0.28261697, 0.28425909, 0.28589671, 0.28752964,\n",
       "       0.28915771, 0.29078072, 0.29239848, 0.29401081, 0.29561751,\n",
       "       0.2972184 , 0.29881329, 0.30040198, 0.3019843 , 0.30356004,\n",
       "       0.30512903, 0.30669106, 0.30824596, 0.30979353, 0.31133359,\n",
       "       0.31286594, 0.31439039, 0.31590676, 0.31741486, 0.3189145 ,\n",
       "       0.3204055 , 0.32188766, 0.3233608 , 0.32482474, 0.32627928,\n",
       "       0.32772424, 0.32915944, 0.3305847 , 0.33199982, 0.33340464,\n",
       "       0.33479896, 0.3361826 , 0.33755539, 0.33891714, 0.34026768,\n",
       "       0.34160683, 0.34293441, 0.34425025, 0.34555417, 0.346846  ,\n",
       "       0.34812557, 0.3493927 , 0.35064723, 0.35188899, 0.3531178 ,\n",
       "       0.35433351, 0.35553594, 0.35672495, 0.35790035, 0.359062  ,\n",
       "       0.36020974, 0.3613434 , 0.36246283, 0.36356788, 0.36465839,\n",
       "       0.36573422, 0.36679521, 0.36784122, 0.3688721 , 0.36988771,\n",
       "       0.3708879 , 0.37187254, 0.37284149, 0.37379461, 0.37473176,\n",
       "       0.37565282, 0.37655766, 0.37744615, 0.37831815, 0.37917355,\n",
       "       0.38001223, 0.38083407, 0.38163894, 0.38242674, 0.38319735,\n",
       "       0.38395066, 0.38468656, 0.38540495, 0.38610573, 0.38678879,\n",
       "       0.38745403, 0.38810136, 0.38873069, 0.38934192, 0.38993497,\n",
       "       0.39050974, 0.39106616, 0.39160415, 0.39212362, 0.39262451,\n",
       "       0.39310673, 0.39357023, 0.39401492, 0.39444075, 0.39484765,\n",
       "       0.39523557, 0.39560444, 0.39595422, 0.39628485, 0.39659628,\n",
       "       0.39688847, 0.39716137, 0.39741495, 0.39764917, 0.39786399,\n",
       "       0.39805938, 0.39823532, 0.39839177, 0.39852871, 0.39864613,\n",
       "       0.39874401, 0.39882233, 0.39888107, 0.39892025, 0.39893983,\n",
       "       0.39893983, 0.39892025, 0.39888107, 0.39882233, 0.39874401,\n",
       "       0.39864613, 0.39852871, 0.39839177, 0.39823532, 0.39805938,\n",
       "       0.39786399, 0.39764917, 0.39741495, 0.39716137, 0.39688847,\n",
       "       0.39659628, 0.39628485, 0.39595422, 0.39560444, 0.39523557,\n",
       "       0.39484765, 0.39444075, 0.39401492, 0.39357023, 0.39310673,\n",
       "       0.39262451, 0.39212362, 0.39160415, 0.39106616, 0.39050974,\n",
       "       0.38993497, 0.38934192, 0.38873069, 0.38810136, 0.38745403,\n",
       "       0.38678879, 0.38610573, 0.38540495, 0.38468656, 0.38395066,\n",
       "       0.38319735, 0.38242674, 0.38163894, 0.38083407, 0.38001223,\n",
       "       0.37917355, 0.37831815, 0.37744615, 0.37655766, 0.37565282,\n",
       "       0.37473176, 0.37379461, 0.37284149, 0.37187254, 0.3708879 ,\n",
       "       0.36988771, 0.3688721 , 0.36784122, 0.36679521, 0.36573422,\n",
       "       0.36465839, 0.36356788, 0.36246283, 0.3613434 , 0.36020974,\n",
       "       0.359062  , 0.35790035, 0.35672495, 0.35553594, 0.35433351,\n",
       "       0.3531178 , 0.35188899, 0.35064723, 0.3493927 , 0.34812557,\n",
       "       0.346846  , 0.34555417, 0.34425025, 0.34293441, 0.34160683,\n",
       "       0.34026768, 0.33891714, 0.33755539, 0.3361826 , 0.33479896,\n",
       "       0.33340464, 0.33199982, 0.3305847 , 0.32915944, 0.32772424,\n",
       "       0.32627928, 0.32482474, 0.3233608 , 0.32188766, 0.3204055 ,\n",
       "       0.3189145 , 0.31741486, 0.31590676, 0.31439039, 0.31286594,\n",
       "       0.31133359, 0.30979353, 0.30824596, 0.30669106, 0.30512903,\n",
       "       0.30356004, 0.3019843 , 0.30040198, 0.29881329, 0.2972184 ,\n",
       "       0.29561751, 0.29401081, 0.29239848, 0.29078072, 0.28915771,\n",
       "       0.28752964, 0.28589671, 0.28425909, 0.28261697, 0.28097054,\n",
       "       0.27931999, 0.27766551, 0.27600727, 0.27434547, 0.27268028,\n",
       "       0.27101189, 0.26934049, 0.26766625, 0.26598936, 0.26431   ,\n",
       "       0.26262834, 0.26094457, 0.25925887, 0.25757141, 0.25588238,\n",
       "       0.25419193, 0.25250026, 0.25080753, 0.24911391, 0.24741959,\n",
       "       0.24572472, 0.24402948, 0.24233404, 0.24063857, 0.23894322,\n",
       "       0.23724817, 0.23555358, 0.23385961, 0.23216642, 0.23047417,\n",
       "       0.22878303, 0.22709315, 0.22540468, 0.22371778, 0.2220326 ,\n",
       "       0.2203493 , 0.21866802, 0.21698892, 0.21531214, 0.21363783,\n",
       "       0.21196612, 0.21029718, 0.20863113, 0.20696812, 0.20530828,\n",
       "       0.20365176, 0.20199869, 0.20034919, 0.19870341, 0.19706147,\n",
       "       0.19542351, 0.19378964, 0.19216   , 0.19053471, 0.18891389,\n",
       "       0.18729766, 0.18568615, 0.18407946, 0.18247771, 0.18088102,\n",
       "       0.1792895 , 0.17770325, 0.17612239, 0.17454703, 0.17297726,\n",
       "       0.17141319, 0.16985493, 0.16830257, 0.16675621, 0.16521594,\n",
       "       0.16368187, 0.16215408, 0.16063266, 0.1591177 , 0.1576093 ,\n",
       "       0.15610752, 0.15461247, 0.15312421, 0.15164284, 0.15016842,\n",
       "       0.14870104, 0.14724077, 0.14578768, 0.14434184, 0.14290332,\n",
       "       0.1414722 , 0.14004853, 0.13863238, 0.13722382, 0.13582289,\n",
       "       0.13442967, 0.13304421, 0.13166656, 0.13029678, 0.12893491,\n",
       "       0.12758102, 0.12623515, 0.12489734, 0.12356764, 0.1222461 ,\n",
       "       0.12093276, 0.11962764, 0.11833081, 0.11704229, 0.11576211,\n",
       "       0.11449031, 0.11322693, 0.11197199, 0.11072552, 0.10948756,\n",
       "       0.10825811, 0.10703722, 0.1058249 , 0.10462118, 0.10342607,\n",
       "       0.10223959, 0.10106176, 0.0998926 , 0.09873211, 0.09758031,\n",
       "       0.09643722, 0.09530283, 0.09417717, 0.09306023, 0.09195203,\n",
       "       0.09085256, 0.08976183, 0.08867984, 0.08760659, 0.08654208,\n",
       "       0.08548631, 0.08443927, 0.08340096, 0.08237138, 0.08135051,\n",
       "       0.08033835, 0.07933489, 0.07834011, 0.07735401, 0.07637657,\n",
       "       0.07540778, 0.07444762, 0.07349609, 0.07255315, 0.07161879,\n",
       "       0.07069299, 0.06977573, 0.068867  , 0.06796676, 0.067075  ,\n",
       "       0.06619169, 0.0653168 , 0.06445031, 0.0635922 , 0.06274243,\n",
       "       0.06190097, 0.06106781, 0.0602429 , 0.05942621, 0.05861772,\n",
       "       0.05781738, 0.05702518, 0.05624107, 0.05546502, 0.05469699,\n",
       "       0.05393694, 0.05318485, 0.05244067, 0.05170436, 0.05097589,\n",
       "       0.05025521, 0.04954229, 0.04883709, 0.04813956, 0.04744966,\n",
       "       0.04676736, 0.0460926 , 0.04542535, 0.04476556, 0.04411318,\n",
       "       0.04346818, 0.04283051, 0.04220012, 0.04157697, 0.040961  ,\n",
       "       0.04035219, 0.03975046, 0.03915579, 0.03856813, 0.03798741,\n",
       "       0.03741361, 0.03684666, 0.03628652, 0.03573314, 0.03518647,\n",
       "       0.03464647, 0.03411308, 0.03358625, 0.03306593, 0.03255208,\n",
       "       0.03204463, 0.03154355, 0.03104878, 0.03056027, 0.03007797,\n",
       "       0.02960183, 0.0291318 , 0.02866782, 0.02820984, 0.02775782,\n",
       "       0.0273117 , 0.02687143, 0.02643697, 0.02600824, 0.02558522,\n",
       "       0.02516784, 0.02475605, 0.0243498 , 0.02394905, 0.02355373,\n",
       "       0.02316381, 0.02277922, 0.02239991, 0.02202584, 0.02165695,\n",
       "       0.0212932 , 0.02093453, 0.02058088, 0.02023222, 0.01988849,\n",
       "       0.01954964, 0.01921562, 0.01888638, 0.01856187, 0.01824203,\n",
       "       0.01792683, 0.01761621, 0.01731013, 0.01700852, 0.01671135,\n",
       "       0.01641857, 0.01613012, 0.01584597, 0.01556605, 0.01529033,\n",
       "       0.01501876, 0.01475128, 0.01448786, 0.01422844, 0.01397298,\n",
       "       0.01372144, 0.01347376, 0.0132299 , 0.01298982, 0.01275347,\n",
       "       0.0125208 , 0.01229177, 0.01206635, 0.01184447, 0.01162611,\n",
       "       0.0114112 , 0.01119973, 0.01099163, 0.01078687, 0.0105854 ,\n",
       "       0.01038718, 0.01019218, 0.01000035, 0.00981164, 0.00962603,\n",
       "       0.00944346, 0.0092639 , 0.00908731, 0.00891364, 0.00874287,\n",
       "       0.00857494, 0.00840983, 0.0082475 , 0.0080879 , 0.00793099,\n",
       "       0.00777676, 0.00762514, 0.00747612, 0.00732964, 0.00718569,\n",
       "       0.00704421, 0.00690519, 0.00676857, 0.00663433, 0.00650243,\n",
       "       0.00637285, 0.00624554, 0.00612047, 0.00599761, 0.00587693,\n",
       "       0.00575839, 0.00564197, 0.00552763, 0.00541535, 0.00530508,\n",
       "       0.0051968 , 0.00509048, 0.0049861 , 0.00488361, 0.004783  ,\n",
       "       0.00468423, 0.00458727, 0.0044921 , 0.00439869, 0.00430701,\n",
       "       0.00421703, 0.00412873, 0.00404208, 0.00395705, 0.00387363,\n",
       "       0.00379177, 0.00371146, 0.00363268, 0.00355539, 0.00347958,\n",
       "       0.00340522, 0.00333228, 0.00326074, 0.00319058, 0.00312178,\n",
       "       0.00305432, 0.00298816, 0.00292329, 0.0028597 , 0.00279734,\n",
       "       0.00273622, 0.00267629, 0.00261755, 0.00255998, 0.00250355,\n",
       "       0.00244824, 0.00239403, 0.00234092, 0.00228886, 0.00223786,\n",
       "       0.00218788, 0.00213892, 0.00209095, 0.00204395, 0.00199791,\n",
       "       0.00195281, 0.00190864, 0.00186538, 0.001823  , 0.0017815 ,\n",
       "       0.00174087, 0.00170107, 0.0016621 , 0.00162395, 0.00158659,\n",
       "       0.00155002, 0.00151421, 0.00147916, 0.00144485, 0.00141127,\n",
       "       0.0013784 , 0.00134622, 0.00131474, 0.00128393, 0.00125378,\n",
       "       0.00122427, 0.00119541, 0.00116716, 0.00113953, 0.0011125 ,\n",
       "       0.00108605, 0.00106018, 0.00103488, 0.00101013, 0.00098593,\n",
       "       0.00096225, 0.0009391 , 0.00091646, 0.00089433, 0.00087268])"
      ]
     },
     "execution_count": 36,
     "metadata": {},
     "output_type": "execute_result"
    }
   ],
   "source": [
    "stdDistri"
   ]
  },
  {
   "cell_type": "code",
   "execution_count": 37,
   "metadata": {},
   "outputs": [],
   "source": [
    "# https://peps.python.org/pep-0257/\n",
    "# https://peps.python.org/pep-0008/"
   ]
  },
  {
   "cell_type": "code",
   "execution_count": 39,
   "metadata": {},
   "outputs": [],
   "source": [
    "def entro_py(arg_matrix):\n",
    "    return np.sum(np.power(arg_matrix,2)*np.log(np.power(arg_matrix,2)+0.1))\n",
    "\n",
    "def entro_rust(arg_matrix):\n",
    "    entropy_value = 0\n",
    "    for row in arg_matrix:\n",
    "        for val in row:\n",
    "            entropy_value= entropy_value+((val**2)*np.log(val**2+0.1))\n",
    "    return entropy_value\n"
   ]
  },
  {
   "cell_type": "code",
   "execution_count": 40,
   "metadata": {},
   "outputs": [
    {
     "name": "stdout",
     "output_type": "stream",
     "text": [
      "1956021.502514078\n",
      "1956021.5025140732\n"
     ]
    }
   ],
   "source": [
    "a = np.ones([10,10])*50\n",
    "\n",
    "print(entro_py(a))\n",
    "print(entro_rust(a))"
   ]
  },
  {
   "cell_type": "code",
   "execution_count": 41,
   "metadata": {},
   "outputs": [
    {
     "data": {
      "text/plain": [
       "0.5867654320987654"
      ]
     },
     "execution_count": 41,
     "metadata": {},
     "output_type": "execute_result"
    }
   ],
   "source": [
    "a = np.ones([10,10])*np.random.rand(10,10)\n",
    "\n",
    "a = [[1,0.5,0.1],[0.5,1,0.5],[0.1,0.5,1]]\n",
    "np.var(a)*np.sum(a)"
   ]
  },
  {
   "cell_type": "code",
   "execution_count": 160,
   "metadata": {},
   "outputs": [
    {
     "name": "stderr",
     "output_type": "stream",
     "text": [
      "C:\\Users\\YoupiYoupin\\AppData\\Local\\Temp\\ipykernel_1152\\1096117780.py:4: RuntimeWarning: divide by zero encountered in true_divide\n",
      "  b = (np.tanh(1/summation)*np.tanh(1/variance))\n"
     ]
    },
    {
     "data": {
      "text/plain": [
       "[<matplotlib.lines.Line2D at 0x1f82bc4fb20>]"
      ]
     },
     "execution_count": 160,
     "metadata": {},
     "output_type": "execute_result"
    },
    {
     "data": {
      "image/png": "[encoded data removed]",
      "text/plain": [
       "<Figure size 432x288 with 1 Axes>"
      ]
     },
     "metadata": {
      "needs_background": "light"
     },
     "output_type": "display_data"
    }
   ],
   "source": [
    "x = np.hstack((np.linspace(0,20,50),np.linspace(20,0,50)))\n",
    "variance = np.linspace(1,0.0000028866194895299816,100)\n",
    "summation = np.linspace(0,1,100)\n",
    "b = (np.tanh(1/summation)*np.tanh(1/variance))\n",
    "b = np.tanh((summation*variance))\n",
    "\n",
    "# plt.plot(a, color = 'red')\n",
    "plt.plot(b, color = 'blue')"
   ]
  },
  {
   "cell_type": "code",
   "execution_count": 181,
   "metadata": {},
   "outputs": [],
   "source": [
    "a = [[5.0,5.0,5.0,5.0],\n",
    "\t[5.0,5.0,5.0,5.0],\n",
    "\t[7.5,6.5,5.5,9.0],\n",
    "\t[10.0,16.0,5.0,8.0],\n",
    "\t[5.0,5.0,5.0,5.0]]"
   ]
  },
  {
   "cell_type": "code",
   "execution_count": 167,
   "metadata": {},
   "outputs": [
    {
     "data": {
      "text/plain": [
       "[<matplotlib.lines.Line2D at 0x1f82bf2f550>]"
      ]
     },
     "execution_count": 167,
     "metadata": {},
     "output_type": "execute_result"
    },
    {
     "data": {
      "image/png": "[encoded data removed]",
      "text/plain": [
       "<Figure size 432x288 with 1 Axes>"
      ]
     },
     "metadata": {
      "needs_background": "light"
     },
     "output_type": "display_data"
    }
   ],
   "source": [
    "variance = np.linspace(1,0,100)\n",
    "summation = np.linspace(-1000,1000,100)\n",
    "b = np.tanh((np.tanh(summation)*variance))\n",
    "plt.plot(b, color = 'blue')"
   ]
  },
  {
   "cell_type": "code",
   "execution_count": 174,
   "metadata": {},
   "outputs": [
    {
     "data": {
      "text/plain": [
       "5"
      ]
     },
     "execution_count": 174,
     "metadata": {},
     "output_type": "execute_result"
    }
   ],
   "source": [
    "len(a)"
   ]
  },
  {
   "cell_type": "code",
   "execution_count": 177,
   "metadata": {},
   "outputs": [
    {
     "data": {
      "text/plain": [
       "[5.0, 5.0, 5.0, 5.0]"
      ]
     },
     "execution_count": 177,
     "metadata": {},
     "output_type": "execute_result"
    }
   ],
   "source": [
    "a[0]"
   ]
  },
  {
   "cell_type": "code",
   "execution_count": 182,
   "metadata": {},
   "outputs": [
    {
     "name": "stdout",
     "output_type": "stream",
     "text": [
      "[[-2.23606798 -2.23606798 -2.23606798 -2.23606798]\n",
      " [-2.23606798 -2.23606798 -2.23606798 -2.23606798]\n",
      " [ 1.49071198 -1.35340957 -1.63497444  0.99058134]\n",
      " [ 5.21749195  4.23676038 -2.23606798  0.18391901]\n",
      " [-2.23606798 -2.23606798 -2.23606798 -2.23606798]]\n"
     ]
    }
   ],
   "source": [
    "micro=0\n",
    "for i in range(0,len(a[0])):\n",
    "        for row_data in a:\n",
    "            micro = micro+row_data[i]\n",
    "\n",
    "        mean=micro/len(a)\n",
    "        micro = micro/len(a)\n",
    "\n",
    "        for row_data in a:\n",
    "            std=(row_data[i]-micro)**2\n",
    "\n",
    "        std = np.sqrt(std/len(a))\n",
    "\n",
    "        for row_data in a:\n",
    "            row_data[i]=(row_data[i]-mean)/std\n",
    "\n",
    "print(np.array(a))"
   ]
  },
  {
   "cell_type": "code",
   "execution_count": null,
   "metadata": {},
   "outputs": [],
   "source": [
    "for i in range(0,len(a[0])):\n",
    "        // Find the mean and start to compute \n",
    "        for row_data in data.iter(){\n",
    "            micro = micro+row_data[i];\n",
    "        }\n",
    "        mean=micro/data.len() as f64;;\n",
    "        micro = micro/data.len() as f64;\n",
    "        // Compute std\n",
    "        for row_data in data.iter(){\n",
    "            std=(row_data[i]-micro).powi(2);\n",
    "        }\n",
    "        std = (std/data.len() as f64).sqrt();\n",
    "        // Z norm\n",
    "        for row_data in data.iter_mut(){\n",
    "            row_data[i]=(row_data[i]-mean)/std;\n",
    "        }"
   ]
  }
 ],
 "metadata": {
  "kernelspec": {
   "display_name": "Python 3.10.2 64-bit",
   "language": "python",
   "name": "python3"
  },
  "language_info": {
   "codemirror_mode": {
    "name": "ipython",
    "version": 3
   },
   "file_extension": ".py",
   "mimetype": "text/x-python",
   "name": "python",
   "nbconvert_exporter": "python",
   "pygments_lexer": "ipython3",
   "version": "3.10.2"
  },
  "orig_nbformat": 4,
  "vscode": {
   "interpreter": {
    "hash": "d0e56f5bf6d950d015c7edda514f4022b75b00298ec6025120f40dd1e4eccab0"
   }
  }
 },
 "nbformat": 4,
 "nbformat_minor": 2
}
